{
 "cells": [
  {
   "cell_type": "markdown",
   "metadata": {},
   "source": [
    "# Clustering of horror movies"
   ]
  },
  {
   "cell_type": "markdown",
   "metadata": {},
   "source": [
    "Loading data previously cleaned in R"
   ]
  },
  {
   "cell_type": "code",
   "execution_count": 1,
   "metadata": {
    "scrolled": true
   },
   "outputs": [
    {
     "data": {
      "text/html": [
       "<div>\n",
       "<style scoped>\n",
       "    .dataframe tbody tr th:only-of-type {\n",
       "        vertical-align: middle;\n",
       "    }\n",
       "\n",
       "    .dataframe tbody tr th {\n",
       "        vertical-align: top;\n",
       "    }\n",
       "\n",
       "    .dataframe thead th {\n",
       "        text-align: right;\n",
       "    }\n",
       "</style>\n",
       "<table border=\"1\" class=\"dataframe\">\n",
       "  <thead>\n",
       "    <tr style=\"text-align: right;\">\n",
       "      <th></th>\n",
       "      <th>title</th>\n",
       "      <th>story</th>\n",
       "      <th>director</th>\n",
       "      <th>cast</th>\n",
       "      <th>Action</th>\n",
       "      <th>Adventure</th>\n",
       "      <th>Comedy</th>\n",
       "      <th>Crime</th>\n",
       "      <th>Drama</th>\n",
       "      <th>Fantasy</th>\n",
       "      <th>Mystery</th>\n",
       "      <th>Romance</th>\n",
       "      <th>Sci-Fi</th>\n",
       "      <th>Thriller</th>\n",
       "    </tr>\n",
       "  </thead>\n",
       "  <tbody>\n",
       "    <tr>\n",
       "      <th>0</th>\n",
       "      <td>Gut</td>\n",
       "      <td>Family man Tom has seen something he cant forg...</td>\n",
       "      <td>Elias</td>\n",
       "      <td>Jason Vail, Nicholas Wilder, Sarah Schoofs, Ki...</td>\n",
       "      <td>0</td>\n",
       "      <td>0</td>\n",
       "      <td>0</td>\n",
       "      <td>0</td>\n",
       "      <td>1</td>\n",
       "      <td>0</td>\n",
       "      <td>0</td>\n",
       "      <td>0</td>\n",
       "      <td>0</td>\n",
       "      <td>1</td>\n",
       "    </tr>\n",
       "    <tr>\n",
       "      <th>1</th>\n",
       "      <td>Treasure Chest of Horrors II</td>\n",
       "      <td>Mona Screamalot, along with her crazy family, ...</td>\n",
       "      <td>M Kelley, Shawn C Phillips, Alex Powers</td>\n",
       "      <td>Veronica Ricci, Nicholas Adam Clark, James Cul...</td>\n",
       "      <td>0</td>\n",
       "      <td>0</td>\n",
       "      <td>1</td>\n",
       "      <td>0</td>\n",
       "      <td>0</td>\n",
       "      <td>0</td>\n",
       "      <td>0</td>\n",
       "      <td>0</td>\n",
       "      <td>0</td>\n",
       "      <td>1</td>\n",
       "    </tr>\n",
       "    <tr>\n",
       "      <th>2</th>\n",
       "      <td>Infidus</td>\n",
       "      <td>In the suburbs of Rome, two disparate lives wi...</td>\n",
       "      <td>Giulio De Santi</td>\n",
       "      <td>Bonini Mino, Massimo Caratelli, Maurizio Zaffi...</td>\n",
       "      <td>0</td>\n",
       "      <td>0</td>\n",
       "      <td>0</td>\n",
       "      <td>1</td>\n",
       "      <td>1</td>\n",
       "      <td>0</td>\n",
       "      <td>0</td>\n",
       "      <td>0</td>\n",
       "      <td>0</td>\n",
       "      <td>0</td>\n",
       "    </tr>\n",
       "    <tr>\n",
       "      <th>3</th>\n",
       "      <td>In Extremis</td>\n",
       "      <td>Its the end of the world  at least their world.</td>\n",
       "      <td>Steve Stone</td>\n",
       "      <td>David OHara, Isabelle Allen, Neil Pearson, Toy...</td>\n",
       "      <td>0</td>\n",
       "      <td>0</td>\n",
       "      <td>0</td>\n",
       "      <td>0</td>\n",
       "      <td>0</td>\n",
       "      <td>0</td>\n",
       "      <td>0</td>\n",
       "      <td>0</td>\n",
       "      <td>0</td>\n",
       "      <td>1</td>\n",
       "    </tr>\n",
       "    <tr>\n",
       "      <th>4</th>\n",
       "      <td>Ghostlight</td>\n",
       "      <td>Andrew wins a radio contest to spend one night...</td>\n",
       "      <td>Jeff Ferrell</td>\n",
       "      <td>Eden Campbell, Lisa Coronado, David A Crellin,...</td>\n",
       "      <td>0</td>\n",
       "      <td>0</td>\n",
       "      <td>0</td>\n",
       "      <td>0</td>\n",
       "      <td>1</td>\n",
       "      <td>0</td>\n",
       "      <td>0</td>\n",
       "      <td>0</td>\n",
       "      <td>0</td>\n",
       "      <td>1</td>\n",
       "    </tr>\n",
       "    <tr>\n",
       "      <th>...</th>\n",
       "      <td>...</td>\n",
       "      <td>...</td>\n",
       "      <td>...</td>\n",
       "      <td>...</td>\n",
       "      <td>...</td>\n",
       "      <td>...</td>\n",
       "      <td>...</td>\n",
       "      <td>...</td>\n",
       "      <td>...</td>\n",
       "      <td>...</td>\n",
       "      <td>...</td>\n",
       "      <td>...</td>\n",
       "      <td>...</td>\n",
       "      <td>...</td>\n",
       "    </tr>\n",
       "    <tr>\n",
       "      <th>3163</th>\n",
       "      <td>Victor Frankenstein</td>\n",
       "      <td>Told from Igors perspective, we see the troubl...</td>\n",
       "      <td>Paul McGuigan</td>\n",
       "      <td>Daniel Radcliffe, James McAvoy, Jessica Brown ...</td>\n",
       "      <td>0</td>\n",
       "      <td>0</td>\n",
       "      <td>0</td>\n",
       "      <td>0</td>\n",
       "      <td>1</td>\n",
       "      <td>0</td>\n",
       "      <td>0</td>\n",
       "      <td>0</td>\n",
       "      <td>1</td>\n",
       "      <td>1</td>\n",
       "    </tr>\n",
       "    <tr>\n",
       "      <th>3164</th>\n",
       "      <td>The Exorcism of Molly Hartley</td>\n",
       "      <td>Taking place years after The Haunting of Molly...</td>\n",
       "      <td>Steven R Monroe</td>\n",
       "      <td>Sarah Lind, Devon Sawa, Gina Holden, Peter Mac...</td>\n",
       "      <td>0</td>\n",
       "      <td>0</td>\n",
       "      <td>0</td>\n",
       "      <td>0</td>\n",
       "      <td>0</td>\n",
       "      <td>0</td>\n",
       "      <td>0</td>\n",
       "      <td>0</td>\n",
       "      <td>0</td>\n",
       "      <td>0</td>\n",
       "    </tr>\n",
       "    <tr>\n",
       "      <th>3165</th>\n",
       "      <td>Talon Falls</td>\n",
       "      <td>Four teenagers on a road trip decide to take a...</td>\n",
       "      <td>Joshua Shreve</td>\n",
       "      <td>Brad Bell, Jordyn Rudolph, Ryan Rudolph, Morga...</td>\n",
       "      <td>0</td>\n",
       "      <td>0</td>\n",
       "      <td>0</td>\n",
       "      <td>0</td>\n",
       "      <td>0</td>\n",
       "      <td>0</td>\n",
       "      <td>0</td>\n",
       "      <td>0</td>\n",
       "      <td>0</td>\n",
       "      <td>0</td>\n",
       "    </tr>\n",
       "    <tr>\n",
       "      <th>3166</th>\n",
       "      <td>BloodRayne: The Third Reich</td>\n",
       "      <td>Rayne fights against the Nazis in Europe durin...</td>\n",
       "      <td>Uwe Boll</td>\n",
       "      <td>Natassia Malthe, Brendan Fletcher, Michael Par...</td>\n",
       "      <td>1</td>\n",
       "      <td>1</td>\n",
       "      <td>0</td>\n",
       "      <td>0</td>\n",
       "      <td>0</td>\n",
       "      <td>1</td>\n",
       "      <td>0</td>\n",
       "      <td>0</td>\n",
       "      <td>0</td>\n",
       "      <td>0</td>\n",
       "    </tr>\n",
       "    <tr>\n",
       "      <th>3167</th>\n",
       "      <td>13 Cameras</td>\n",
       "      <td>Claire and Ryan, a newlywed couple, move into ...</td>\n",
       "      <td>Victor Zarcoff</td>\n",
       "      <td>Neville Archambault, Sean Carrigan, PJ McCabe,...</td>\n",
       "      <td>0</td>\n",
       "      <td>0</td>\n",
       "      <td>0</td>\n",
       "      <td>0</td>\n",
       "      <td>1</td>\n",
       "      <td>0</td>\n",
       "      <td>0</td>\n",
       "      <td>0</td>\n",
       "      <td>0</td>\n",
       "      <td>0</td>\n",
       "    </tr>\n",
       "  </tbody>\n",
       "</table>\n",
       "<p>3168 rows × 14 columns</p>\n",
       "</div>"
      ],
      "text/plain": [
       "                              title  \\\n",
       "0                               Gut   \n",
       "1      Treasure Chest of Horrors II   \n",
       "2                           Infidus   \n",
       "3                       In Extremis   \n",
       "4                        Ghostlight   \n",
       "...                             ...   \n",
       "3163            Victor Frankenstein   \n",
       "3164  The Exorcism of Molly Hartley   \n",
       "3165                    Talon Falls   \n",
       "3166    BloodRayne: The Third Reich   \n",
       "3167                     13 Cameras   \n",
       "\n",
       "                                                  story  \\\n",
       "0     Family man Tom has seen something he cant forg...   \n",
       "1     Mona Screamalot, along with her crazy family, ...   \n",
       "2     In the suburbs of Rome, two disparate lives wi...   \n",
       "3       Its the end of the world  at least their world.   \n",
       "4     Andrew wins a radio contest to spend one night...   \n",
       "...                                                 ...   \n",
       "3163  Told from Igors perspective, we see the troubl...   \n",
       "3164  Taking place years after The Haunting of Molly...   \n",
       "3165  Four teenagers on a road trip decide to take a...   \n",
       "3166  Rayne fights against the Nazis in Europe durin...   \n",
       "3167  Claire and Ryan, a newlywed couple, move into ...   \n",
       "\n",
       "                                     director  \\\n",
       "0                                       Elias   \n",
       "1     M Kelley, Shawn C Phillips, Alex Powers   \n",
       "2                             Giulio De Santi   \n",
       "3                                 Steve Stone   \n",
       "4                                Jeff Ferrell   \n",
       "...                                       ...   \n",
       "3163                            Paul McGuigan   \n",
       "3164                          Steven R Monroe   \n",
       "3165                            Joshua Shreve   \n",
       "3166                                 Uwe Boll   \n",
       "3167                           Victor Zarcoff   \n",
       "\n",
       "                                                   cast  Action  Adventure  \\\n",
       "0     Jason Vail, Nicholas Wilder, Sarah Schoofs, Ki...       0          0   \n",
       "1     Veronica Ricci, Nicholas Adam Clark, James Cul...       0          0   \n",
       "2     Bonini Mino, Massimo Caratelli, Maurizio Zaffi...       0          0   \n",
       "3     David OHara, Isabelle Allen, Neil Pearson, Toy...       0          0   \n",
       "4     Eden Campbell, Lisa Coronado, David A Crellin,...       0          0   \n",
       "...                                                 ...     ...        ...   \n",
       "3163  Daniel Radcliffe, James McAvoy, Jessica Brown ...       0          0   \n",
       "3164  Sarah Lind, Devon Sawa, Gina Holden, Peter Mac...       0          0   \n",
       "3165  Brad Bell, Jordyn Rudolph, Ryan Rudolph, Morga...       0          0   \n",
       "3166  Natassia Malthe, Brendan Fletcher, Michael Par...       1          1   \n",
       "3167  Neville Archambault, Sean Carrigan, PJ McCabe,...       0          0   \n",
       "\n",
       "      Comedy  Crime  Drama  Fantasy  Mystery  Romance  Sci-Fi  Thriller  \n",
       "0          0      0      1        0        0        0       0         1  \n",
       "1          1      0      0        0        0        0       0         1  \n",
       "2          0      1      1        0        0        0       0         0  \n",
       "3          0      0      0        0        0        0       0         1  \n",
       "4          0      0      1        0        0        0       0         1  \n",
       "...      ...    ...    ...      ...      ...      ...     ...       ...  \n",
       "3163       0      0      1        0        0        0       1         1  \n",
       "3164       0      0      0        0        0        0       0         0  \n",
       "3165       0      0      0        0        0        0       0         0  \n",
       "3166       0      0      0        1        0        0       0         0  \n",
       "3167       0      0      1        0        0        0       0         0  \n",
       "\n",
       "[3168 rows x 14 columns]"
      ]
     },
     "execution_count": 1,
     "metadata": {},
     "output_type": "execute_result"
    }
   ],
   "source": [
    "import pandas as pd\n",
    "import numpy as np\n",
    "\n",
    "movies = pd.read_csv(\"horror_movies_cleaned.csv\")\n",
    "movies"
   ]
  },
  {
   "cell_type": "markdown",
   "metadata": {},
   "source": [
    "## Tokenization of plots"
   ]
  },
  {
   "cell_type": "markdown",
   "metadata": {},
   "source": [
    "Stoppord, tokens, lowercasing, möjligen lemmatisering."
   ]
  },
  {
   "cell_type": "code",
   "execution_count": 2,
   "metadata": {},
   "outputs": [],
   "source": [
    "# Using things from lab 1\n",
    "import spacy\n",
    "from sklearn.feature_extraction.text import TfidfVectorizer\n",
    "\n",
    "nlp = spacy.load(\"en_core_web_sm\")\n",
    "stop_words = [\"the\", \"a\", \"in\", \"but\", \"when\", \"s\", \"be\", \"can\"]\n",
    "\n",
    "def preprocess(text):\n",
    "    doc = nlp(text)\n",
    "    \n",
    "    ret_list = [token.lemma_.lower() for token  in doc if not token.is_stop and token.lemma_.lower() not in stop_words]\n",
    "    return list(filter(lambda x: x.isalpha(), ret_list))\n",
    "\n",
    "movies[\"token_plot\"] = movies.apply(lambda row: preprocess(row[\"story\"]), axis = 1)\n",
    "movies[\"token_title\"] = movies.apply(lambda row: preprocess(row[\"title\"]), axis = 1)\n",
    "movies[\"token_title_plot\"] = movies.apply(lambda row: row[\"token_title\"] + row[\"token_plot\"], axis = 1)"
   ]
  },
  {
   "cell_type": "code",
   "execution_count": 109,
   "metadata": {},
   "outputs": [
    {
     "name": "stdout",
     "output_type": "stream",
     "text": [
      "['resident', 'coastal', 'town', 'learn', 'deathly', 'consequence', 'secret', 'share', 'mysterious', 'woman', 'seek', 'shelter', 'local', 'resort']\n",
      "['byzantium']\n",
      "['byzantium', 'resident', 'coastal', 'town', 'learn', 'deathly', 'consequence', 'secret', 'share', 'mysterious', 'woman', 'seek', 'shelter', 'local', 'resort']\n",
      "Residents of a coastal town learn, with deathly consequences, the secret shared by the two mysterious women who have sought shelter at a local resort.\n"
     ]
    }
   ],
   "source": [
    "tid = 3011\n",
    "print(movies.token_plot[tid])\n",
    "print(movies.token_title[tid])\n",
    "print(movies.token_title_plot[tid])\n",
    "print(movies.story[tid])"
   ]
  },
  {
   "cell_type": "code",
   "execution_count": 3,
   "metadata": {},
   "outputs": [],
   "source": [
    "# Funkar inte just nu, måste ha både splittad lista och mening lagrad nånstans...\n",
    "vectorizer_p = TfidfVectorizer(stop_words = 'english')\n",
    "plots_tfidf = vectorizer_p.fit_transform(movies.apply(lambda row: \" \".join(row[\"token_plot\"]), axis=1))\n",
    "vectorizer_tp = TfidfVectorizer(stop_words = 'english')\n",
    "title_plots_tfidf = vectorizer_tp.fit_transform(movies.apply(lambda row: \" \".join(row[\"token_title_plot\"]), axis=1))"
   ]
  },
  {
   "cell_type": "markdown",
   "metadata": {},
   "source": [
    "## K-means-clustering"
   ]
  },
  {
   "cell_type": "markdown",
   "metadata": {},
   "source": [
    "### Tuning number of clusters"
   ]
  },
  {
   "cell_type": "code",
   "execution_count": 4,
   "metadata": {},
   "outputs": [],
   "source": [
    "from sklearn.cluster import KMeans\n",
    "\n",
    "def inertia(model, data):\n",
    "    dists = model.transform(data)\n",
    "    min_dist = np.amin(dists, axis = 1)\n",
    "    return sum(np.square(min_dist))\n",
    "\n",
    "\n",
    "max_clus = 13\n",
    "\n",
    "plot_models = [KMeans(n_clusters=nclus, n_init=6, n_jobs=-1, random_state = max_clus).fit(plots_tfidf) for nclus in range (6,max_clus)]\n",
    "inertias = [inertia(model, plots_tfidf) for model in plot_models]"
   ]
  },
  {
   "cell_type": "code",
   "execution_count": 5,
   "metadata": {},
   "outputs": [
    {
     "ename": "ModuleNotFoundError",
     "evalue": "No module named 'matplotlib'",
     "output_type": "error",
     "traceback": [
      "\u001b[0;31m---------------------------------------------------------------------------\u001b[0m",
      "\u001b[0;31mModuleNotFoundError\u001b[0m                       Traceback (most recent call last)",
      "\u001b[0;32m<ipython-input-5-af04a8ff05ec>\u001b[0m in \u001b[0;36m<module>\u001b[0;34m\u001b[0m\n\u001b[0;32m----> 1\u001b[0;31m \u001b[0;32mimport\u001b[0m \u001b[0mmatplotlib\u001b[0m\u001b[0;34m.\u001b[0m\u001b[0mpyplot\u001b[0m \u001b[0;32mas\u001b[0m \u001b[0mplt\u001b[0m\u001b[0;34m\u001b[0m\u001b[0;34m\u001b[0m\u001b[0m\n\u001b[0m\u001b[1;32m      2\u001b[0m \u001b[0mget_ipython\u001b[0m\u001b[0;34m(\u001b[0m\u001b[0;34m)\u001b[0m\u001b[0;34m.\u001b[0m\u001b[0mrun_line_magic\u001b[0m\u001b[0;34m(\u001b[0m\u001b[0;34m'matplotlib'\u001b[0m\u001b[0;34m,\u001b[0m \u001b[0;34m'inline'\u001b[0m\u001b[0;34m)\u001b[0m\u001b[0;34m\u001b[0m\u001b[0;34m\u001b[0m\u001b[0m\n\u001b[1;32m      3\u001b[0m \u001b[0;34m\u001b[0m\u001b[0m\n\u001b[1;32m      4\u001b[0m \u001b[0mplt\u001b[0m\u001b[0;34m.\u001b[0m\u001b[0mscatter\u001b[0m\u001b[0;34m(\u001b[0m\u001b[0mrange\u001b[0m\u001b[0;34m(\u001b[0m\u001b[0;36m6\u001b[0m\u001b[0;34m,\u001b[0m\u001b[0mmax_clus\u001b[0m\u001b[0;34m)\u001b[0m\u001b[0;34m,\u001b[0m \u001b[0minertias\u001b[0m\u001b[0;34m)\u001b[0m\u001b[0;34m\u001b[0m\u001b[0;34m\u001b[0m\u001b[0m\n\u001b[1;32m      5\u001b[0m \u001b[0mplt\u001b[0m\u001b[0;34m.\u001b[0m\u001b[0mplot\u001b[0m\u001b[0;34m(\u001b[0m\u001b[0mrange\u001b[0m\u001b[0;34m(\u001b[0m\u001b[0;36m6\u001b[0m\u001b[0;34m,\u001b[0m\u001b[0mmax_clus\u001b[0m\u001b[0;34m)\u001b[0m\u001b[0;34m,\u001b[0m \u001b[0minertias\u001b[0m\u001b[0;34m)\u001b[0m\u001b[0;34m\u001b[0m\u001b[0;34m\u001b[0m\u001b[0m\n",
      "\u001b[0;31mModuleNotFoundError\u001b[0m: No module named 'matplotlib'"
     ]
    }
   ],
   "source": [
    "import matplotlib.pyplot as plt\n",
    "%matplotlib inline\n",
    "\n",
    "plt.scatter(range(6,max_clus), inertias)\n",
    "plt.plot(range(6,max_clus), inertias)\n",
    "plt.show()"
   ]
  },
  {
   "cell_type": "markdown",
   "metadata": {},
   "source": [
    "Elbow som i labben..."
   ]
  },
  {
   "cell_type": "markdown",
   "metadata": {},
   "source": [
    "## Optics-clustering"
   ]
  },
  {
   "cell_type": "code",
   "execution_count": null,
   "metadata": {},
   "outputs": [],
   "source": [
    "from sklearn.cluster import DBSCAN\n",
    "\n",
    "#optic_plots =  OPTICS(n_jobs=-1,  metric='cosine').fit(plots_tfidf.toarray())\n",
    "dbs_plot = DBSCAN(n_jobs=-1,  eps=0.00000005, metric = \"cosine\").fit(plots_tfidf.toarray())"
   ]
  },
  {
   "cell_type": "code",
   "execution_count": null,
   "metadata": {},
   "outputs": [],
   "source": [
    "pd.Series(dbs_plot.labels_).value_counts()\n",
    "plots_tfidf[0:3,0:3]"
   ]
  },
  {
   "cell_type": "markdown",
   "metadata": {},
   "source": [
    "### Tuning eps and min.pts"
   ]
  },
  {
   "cell_type": "markdown",
   "metadata": {},
   "source": [
    "Ska väl gå på nåt jäkla vis..."
   ]
  },
  {
   "cell_type": "markdown",
   "metadata": {},
   "source": [
    "## Topic modelling"
   ]
  },
  {
   "cell_type": "code",
   "execution_count": null,
   "metadata": {
    "scrolled": true
   },
   "outputs": [],
   "source": [
    "from gensim.corpora import Dictionary\n",
    "from gensim.models import LdaModel\n",
    "\n",
    "# Create a dictionary representation of the documents.\n",
    "dictionary = Dictionary(movies[\"token_title_plot\"])\n",
    "dictionary.filter_extremes(no_below=5, no_above=0.2)\n",
    "corpus_title = [dictionary.doc2bow(d) for d in movies[\"token_title_plot\"]]\n",
    "corpus_plot = [dictionary.doc2bow(d) for d in movies[\"token_plot\"]]"
   ]
  },
  {
   "cell_type": "code",
   "execution_count": null,
   "metadata": {},
   "outputs": [],
   "source": [
    "print(dictionary)"
   ]
  },
  {
   "cell_type": "code",
   "execution_count": null,
   "metadata": {},
   "outputs": [],
   "source": [
    "ntopics = 10\n",
    "nwords=15\n",
    "#id2word = dictionary.id2token #suddenly returns empty and kills LAD... love python!\n",
    "model_title = LdaModel(corpus_title, num_topics=ntopics, random_state=831117)\n",
    "model_plot = LdaModel(corpus_plot, num_topics=ntopics, random_state=831117)"
   ]
  },
  {
   "cell_type": "code",
   "execution_count": null,
   "metadata": {},
   "outputs": [],
   "source": [
    "def topic_words(model):\n",
    "    topics = model.show_topics(num_words=nwords, formatted=False,log=False)\n",
    "    # Lookup directly from dictionary instead of id2token\n",
    "    topic_words = pd.DataFrame([[dictionary[ int(topics[i][1][j][0]) ] for j in range(nwords) ] for i in range(ntopics)])\n",
    "    return topic_words\n",
    "    \n",
    "words_title  = topic_words(model_title)\n",
    "words_title\n"
   ]
  },
  {
   "cell_type": "code",
   "execution_count": null,
   "metadata": {},
   "outputs": [],
   "source": [
    "words_plot = topic_words(model_plot)\n",
    "words_plot"
   ]
  },
  {
   "cell_type": "markdown",
   "metadata": {},
   "source": [
    "### Evaluation"
   ]
  },
  {
   "cell_type": "markdown",
   "metadata": {},
   "source": [
    "Dot-product av klustertillhörogheter?! Borde ge höga värden om de har lika klusterprobs, men kanske blir problem om man har nonsenskluster.\n",
    "mappa topics till kategorier och jämföra med sanningen?\n",
    "\n",
    "Även kolla coherence, jmf förekomster av topicord i dokumenten."
   ]
  },
  {
   "cell_type": "code",
   "execution_count": null,
   "metadata": {},
   "outputs": [],
   "source": []
  }
 ],
 "metadata": {
  "kernelspec": {
   "display_name": "Python [conda env:textmining]",
   "language": "python",
   "name": "conda-env-textmining-py"
  },
  "language_info": {
   "codemirror_mode": {
    "name": "ipython",
    "version": 3
   },
   "file_extension": ".py",
   "mimetype": "text/x-python",
   "name": "python",
   "nbconvert_exporter": "python",
   "pygments_lexer": "ipython3",
   "version": "3.7.5"
  }
 },
 "nbformat": 4,
 "nbformat_minor": 2
}
